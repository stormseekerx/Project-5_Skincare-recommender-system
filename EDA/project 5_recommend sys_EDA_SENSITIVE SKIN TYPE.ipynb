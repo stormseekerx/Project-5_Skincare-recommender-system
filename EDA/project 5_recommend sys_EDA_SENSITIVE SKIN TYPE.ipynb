{
 "cells": [
  {
   "cell_type": "code",
   "execution_count": 1,
   "metadata": {},
   "outputs": [],
   "source": [
    "import pandas as pd\n",
    "import re\n",
    "from sklearn.feature_extraction.text import CountVectorizer \n",
    "# from sklearn.decomposition import TruncatedSVD\n",
    "# from sklearn.decomposition import NMF\n",
    "# from sklearn.metrics.pairwise import cosine_similarity\n",
    "\n",
    "# from sklearn.feature_extraction.text import TfidfVectorizer"
   ]
  },
  {
   "cell_type": "code",
   "execution_count": 2,
   "metadata": {},
   "outputs": [],
   "source": [
    "# Load data\n",
    "# use skip initialspace in case headers has hidden space\n",
    "\n",
    "df = pd.read_csv(\"C:/Users/storm/Desktop/METIS/Project/Project 5_RS/Dataset/sephora_SG_FIREFOX_dataset.csv\")\n",
    "\n"
   ]
  },
  {
   "cell_type": "code",
   "execution_count": 3,
   "metadata": {},
   "outputs": [
    {
     "data": {
      "text/html": [
       "<div>\n",
       "<style scoped>\n",
       "    .dataframe tbody tr th:only-of-type {\n",
       "        vertical-align: middle;\n",
       "    }\n",
       "\n",
       "    .dataframe tbody tr th {\n",
       "        vertical-align: top;\n",
       "    }\n",
       "\n",
       "    .dataframe thead th {\n",
       "        text-align: right;\n",
       "    }\n",
       "</style>\n",
       "<table border=\"1\" class=\"dataframe\">\n",
       "  <thead>\n",
       "    <tr style=\"text-align: right;\">\n",
       "      <th></th>\n",
       "      <th>Label</th>\n",
       "      <th>URL</th>\n",
       "      <th>brand</th>\n",
       "      <th>name</th>\n",
       "      <th>price</th>\n",
       "      <th>rank</th>\n",
       "      <th>skin_type</th>\n",
       "      <th>ingredients</th>\n",
       "    </tr>\n",
       "  </thead>\n",
       "  <tbody>\n",
       "    <tr>\n",
       "      <th>0</th>\n",
       "      <td>cleanser-and-exfoliator</td>\n",
       "      <td>https://www.sephora.sg/products/fresh-soy-face...</td>\n",
       "      <td>FRESH</td>\n",
       "      <td>Soy Face Cleanser</td>\n",
       "      <td>$113.00</td>\n",
       "      <td>4.5</td>\n",
       "      <td>Skin Type: Combination, Dry, Normal, Oily, Sen...</td>\n",
       "      <td>Aqua (Water), Coco-Glucoside, Glycerin, Butyle...</td>\n",
       "    </tr>\n",
       "    <tr>\n",
       "      <th>1</th>\n",
       "      <td>cleanser-and-exfoliator</td>\n",
       "      <td>https://www.sephora.sg/products/indie-lee-brig...</td>\n",
       "      <td>INDIE LEE</td>\n",
       "      <td>Brightening Cleanser</td>\n",
       "      <td>$50.00</td>\n",
       "      <td>4.5</td>\n",
       "      <td>Skin Type: Combination, Dry, Normal, Oily, Sen...</td>\n",
       "      <td>Water (Aqua/Eau), Decyl Glucoside (Veg. Oils &amp;...</td>\n",
       "    </tr>\n",
       "    <tr>\n",
       "      <th>2</th>\n",
       "      <td>cleanser-and-exfoliator</td>\n",
       "      <td>https://www.sephora.sg/products/tarte-sea-deep...</td>\n",
       "      <td>TARTE</td>\n",
       "      <td>Sea Deep Dive Makeup Removing Gel Cleanser</td>\n",
       "      <td>$40.00</td>\n",
       "      <td>4.5</td>\n",
       "      <td>Skin Type: Combination, Dry, Normal, Oily, Sen...</td>\n",
       "      <td>Water/Aqua/Eau, cocamidopropyl betaine, disodi...</td>\n",
       "    </tr>\n",
       "    <tr>\n",
       "      <th>3</th>\n",
       "      <td>cleanser-and-exfoliator</td>\n",
       "      <td>https://www.sephora.sg/products/fresh-rose-cle...</td>\n",
       "      <td>FRESH</td>\n",
       "      <td>Rose Cleansing Foam • 120ml</td>\n",
       "      <td>$47.00</td>\n",
       "      <td>4.0</td>\n",
       "      <td>Skin Type: Combination, Dry, Normal, Oily, Sen...</td>\n",
       "      <td>Aqua (Water), Butylene Glycol, Decyl Glucoside...</td>\n",
       "    </tr>\n",
       "    <tr>\n",
       "      <th>4</th>\n",
       "      <td>cleanser-and-exfoliator</td>\n",
       "      <td>https://www.sephora.sg/products/first-aid-beau...</td>\n",
       "      <td>FIRST AID BEAUTY</td>\n",
       "      <td>Face Cleanser</td>\n",
       "      <td>$55.00</td>\n",
       "      <td>4.5</td>\n",
       "      <td>Function: Face</td>\n",
       "      <td>Allantoin and Aloe Barbadensis Leaf Extract: H...</td>\n",
       "    </tr>\n",
       "  </tbody>\n",
       "</table>\n",
       "</div>"
      ],
      "text/plain": [
       "                     Label                                                URL  \\\n",
       "0  cleanser-and-exfoliator  https://www.sephora.sg/products/fresh-soy-face...   \n",
       "1  cleanser-and-exfoliator  https://www.sephora.sg/products/indie-lee-brig...   \n",
       "2  cleanser-and-exfoliator  https://www.sephora.sg/products/tarte-sea-deep...   \n",
       "3  cleanser-and-exfoliator  https://www.sephora.sg/products/fresh-rose-cle...   \n",
       "4  cleanser-and-exfoliator  https://www.sephora.sg/products/first-aid-beau...   \n",
       "\n",
       "              brand                                        name    price  \\\n",
       "0             FRESH                           Soy Face Cleanser  $113.00   \n",
       "1         INDIE LEE                        Brightening Cleanser   $50.00   \n",
       "2             TARTE  Sea Deep Dive Makeup Removing Gel Cleanser   $40.00   \n",
       "3             FRESH                 Rose Cleansing Foam • 120ml   $47.00   \n",
       "4  FIRST AID BEAUTY                               Face Cleanser   $55.00   \n",
       "\n",
       "   rank                                          skin_type  \\\n",
       "0   4.5  Skin Type: Combination, Dry, Normal, Oily, Sen...   \n",
       "1   4.5  Skin Type: Combination, Dry, Normal, Oily, Sen...   \n",
       "2   4.5  Skin Type: Combination, Dry, Normal, Oily, Sen...   \n",
       "3   4.0  Skin Type: Combination, Dry, Normal, Oily, Sen...   \n",
       "4   4.5                                     Function: Face   \n",
       "\n",
       "                                         ingredients  \n",
       "0  Aqua (Water), Coco-Glucoside, Glycerin, Butyle...  \n",
       "1  Water (Aqua/Eau), Decyl Glucoside (Veg. Oils &...  \n",
       "2  Water/Aqua/Eau, cocamidopropyl betaine, disodi...  \n",
       "3  Aqua (Water), Butylene Glycol, Decyl Glucoside...  \n",
       "4  Allantoin and Aloe Barbadensis Leaf Extract: H...  "
      ]
     },
     "execution_count": 3,
     "metadata": {},
     "output_type": "execute_result"
    }
   ],
   "source": [
    "df.head()"
   ]
  },
  {
   "cell_type": "code",
   "execution_count": 4,
   "metadata": {},
   "outputs": [
    {
     "name": "stdout",
     "output_type": "stream",
     "text": [
      "<class 'pandas.core.frame.DataFrame'>\n",
      "RangeIndex: 542 entries, 0 to 541\n",
      "Data columns (total 8 columns):\n",
      " #   Column       Non-Null Count  Dtype  \n",
      "---  ------       --------------  -----  \n",
      " 0   Label        542 non-null    object \n",
      " 1   URL          542 non-null    object \n",
      " 2   brand        542 non-null    object \n",
      " 3   name         542 non-null    object \n",
      " 4   price        542 non-null    object \n",
      " 5   rank         542 non-null    float64\n",
      " 6   skin_type    536 non-null    object \n",
      " 7   ingredients  542 non-null    object \n",
      "dtypes: float64(1), object(7)\n",
      "memory usage: 34.0+ KB\n"
     ]
    }
   ],
   "source": [
    "df.info()"
   ]
  },
  {
   "cell_type": "code",
   "execution_count": 5,
   "metadata": {},
   "outputs": [
    {
     "name": "stdout",
     "output_type": "stream",
     "text": [
      "<class 'pandas.core.frame.DataFrame'>\n",
      "Int64Index: 536 entries, 0 to 541\n",
      "Data columns (total 8 columns):\n",
      " #   Column       Non-Null Count  Dtype  \n",
      "---  ------       --------------  -----  \n",
      " 0   Label        536 non-null    object \n",
      " 1   URL          536 non-null    object \n",
      " 2   brand        536 non-null    object \n",
      " 3   name         536 non-null    object \n",
      " 4   price        536 non-null    object \n",
      " 5   rank         536 non-null    float64\n",
      " 6   skin_type    536 non-null    object \n",
      " 7   ingredients  536 non-null    object \n",
      "dtypes: float64(1), object(7)\n",
      "memory usage: 37.7+ KB\n"
     ]
    }
   ],
   "source": [
    "#drop rows with NAN \n",
    "\n",
    "df = df.dropna()\n",
    "df.info()"
   ]
  },
  {
   "cell_type": "code",
   "execution_count": 6,
   "metadata": {},
   "outputs": [],
   "source": [
    "df.reset_index(drop=True, inplace = True)"
   ]
  },
  {
   "cell_type": "code",
   "execution_count": 7,
   "metadata": {},
   "outputs": [],
   "source": [
    "'''\n",
    "certain cells under skin_type column contain wrong scraped info e.g\n",
    "\n",
    "Function: Face\n",
    "Skin Concerns: Dullness, Firmness & Elasticity\n",
    "Product Type: Solid\n",
    "Formulation: Liquid\n",
    "\n",
    "'''\n",
    "# Clean skin_type column\n",
    "# Delete rows where cell under skin_type column starts with certain words (wrong info)\n",
    "\n",
    "search =\"Function:\"\n",
    "df = df[~df[\"skin_type\"].str.startswith(search)]\n",
    "\n",
    "search =\"Skin Concerns:\"\n",
    "df = df[~df[\"skin_type\"].str.startswith(search)]\n",
    "\n",
    "search =\"Product Type:\"\n",
    "df = df[~df[\"skin_type\"].str.startswith(search)]\n",
    "\n",
    "search =\"Formulation:\"\n",
    "df = df[~df[\"skin_type\"].str.startswith(search)]"
   ]
  },
  {
   "cell_type": "code",
   "execution_count": 8,
   "metadata": {},
   "outputs": [],
   "source": [
    "# Clean label column\n",
    "\n",
    "# df.Label[df['Label'] == 'moisturizing-cream-oils-mists'] = str('Moisturizer')\n",
    "# df.Label[df['Label'] == 'cleanser'] = str('Cleanser')\n",
    "# df.Label[df['Label'] == 'facial-treatments'] = str('Treatment')\n",
    "# df.Label[df['Label'] == 'face-mask'] = str('Face Mask')\n",
    "# df.Label[df['Label'] == 'eye-treatment-dark-circle-treatment'] = str('Eye cream')\n",
    "# df.Label[df['Label'] == 'sunscreen-sun-protection'] = str('Sun protect')"
   ]
  },
  {
   "cell_type": "code",
   "execution_count": 9,
   "metadata": {},
   "outputs": [
    {
     "name": "stdout",
     "output_type": "stream",
     "text": [
      "<class 'pandas.core.frame.DataFrame'>\n",
      "Int64Index: 417 entries, 0 to 534\n",
      "Data columns (total 8 columns):\n",
      " #   Column       Non-Null Count  Dtype  \n",
      "---  ------       --------------  -----  \n",
      " 0   Label        417 non-null    object \n",
      " 1   URL          417 non-null    object \n",
      " 2   brand        417 non-null    object \n",
      " 3   name         417 non-null    object \n",
      " 4   price        417 non-null    object \n",
      " 5   rank         417 non-null    float64\n",
      " 6   skin_type    417 non-null    object \n",
      " 7   ingredients  417 non-null    object \n",
      "dtypes: float64(1), object(7)\n",
      "memory usage: 29.3+ KB\n"
     ]
    }
   ],
   "source": [
    "df.info()"
   ]
  },
  {
   "cell_type": "code",
   "execution_count": 10,
   "metadata": {},
   "outputs": [],
   "source": [
    "# Clean Name column\n",
    "# Drop duplicated item:\n",
    "\n",
    "df_2 = df['name'].drop_duplicates()\n",
    "df = df.loc[df_2.index, :].reset_index()\n",
    "\n"
   ]
  },
  {
   "cell_type": "code",
   "execution_count": 11,
   "metadata": {},
   "outputs": [],
   "source": [
    "# Clean URL column \n",
    "df.drop(['URL', 'index'], axis = 1, inplace = True)"
   ]
  },
  {
   "cell_type": "code",
   "execution_count": 12,
   "metadata": {},
   "outputs": [
    {
     "name": "stdout",
     "output_type": "stream",
     "text": [
      "<class 'pandas.core.frame.DataFrame'>\n",
      "RangeIndex: 403 entries, 0 to 402\n",
      "Data columns (total 7 columns):\n",
      " #   Column       Non-Null Count  Dtype  \n",
      "---  ------       --------------  -----  \n",
      " 0   Label        403 non-null    object \n",
      " 1   brand        403 non-null    object \n",
      " 2   name         403 non-null    object \n",
      " 3   price        403 non-null    object \n",
      " 4   rank         403 non-null    float64\n",
      " 5   skin_type    403 non-null    object \n",
      " 6   ingredients  403 non-null    object \n",
      "dtypes: float64(1), object(6)\n",
      "memory usage: 22.2+ KB\n"
     ]
    }
   ],
   "source": [
    "df.info()"
   ]
  },
  {
   "cell_type": "code",
   "execution_count": 13,
   "metadata": {},
   "outputs": [],
   "source": [
    "# Clean rank column\n",
    "\n",
    "df['rank'].fillna(0, inplace = True)"
   ]
  },
  {
   "cell_type": "code",
   "execution_count": 14,
   "metadata": {},
   "outputs": [
    {
     "name": "stderr",
     "output_type": "stream",
     "text": [
      "C:\\Users\\storm\\anaconda3\\lib\\site-packages\\ipykernel_launcher.py:5: SettingWithCopyWarning: \n",
      "A value is trying to be set on a copy of a slice from a DataFrame\n",
      "\n",
      "See the caveats in the documentation: https://pandas.pydata.org/pandas-docs/stable/user_guide/indexing.html#returning-a-view-versus-a-copy\n",
      "  \"\"\"\n"
     ]
    }
   ],
   "source": [
    "# Clean price column\n",
    "\n",
    "pattern = re.compile(r\"(\\d+).\\d+\")\n",
    "for i in range(len(df)):\n",
    "    df['price'][i] = re.findall(pattern, df['price'][i])[0]\n",
    "\n",
    "df['price'] = pd.to_numeric(df['price'])"
   ]
  },
  {
   "cell_type": "code",
   "execution_count": 15,
   "metadata": {},
   "outputs": [
    {
     "data": {
      "text/html": [
       "<div>\n",
       "<style scoped>\n",
       "    .dataframe tbody tr th:only-of-type {\n",
       "        vertical-align: middle;\n",
       "    }\n",
       "\n",
       "    .dataframe tbody tr th {\n",
       "        vertical-align: top;\n",
       "    }\n",
       "\n",
       "    .dataframe thead th {\n",
       "        text-align: right;\n",
       "    }\n",
       "</style>\n",
       "<table border=\"1\" class=\"dataframe\">\n",
       "  <thead>\n",
       "    <tr style=\"text-align: right;\">\n",
       "      <th></th>\n",
       "      <th>Label</th>\n",
       "      <th>brand</th>\n",
       "      <th>name</th>\n",
       "      <th>price</th>\n",
       "      <th>rank</th>\n",
       "      <th>skin_type</th>\n",
       "      <th>ingredients</th>\n",
       "    </tr>\n",
       "  </thead>\n",
       "  <tbody>\n",
       "    <tr>\n",
       "      <th>0</th>\n",
       "      <td>cleanser-and-exfoliator</td>\n",
       "      <td>FRESH</td>\n",
       "      <td>Soy Face Cleanser</td>\n",
       "      <td>113</td>\n",
       "      <td>4.5</td>\n",
       "      <td>Skin Type: Combination, Dry, Normal, Oily, Sen...</td>\n",
       "      <td>Aqua (Water), Coco-Glucoside, Glycerin, Butyle...</td>\n",
       "    </tr>\n",
       "    <tr>\n",
       "      <th>1</th>\n",
       "      <td>cleanser-and-exfoliator</td>\n",
       "      <td>INDIE LEE</td>\n",
       "      <td>Brightening Cleanser</td>\n",
       "      <td>50</td>\n",
       "      <td>4.5</td>\n",
       "      <td>Skin Type: Combination, Dry, Normal, Oily, Sen...</td>\n",
       "      <td>Water (Aqua/Eau), Decyl Glucoside (Veg. Oils &amp;...</td>\n",
       "    </tr>\n",
       "    <tr>\n",
       "      <th>2</th>\n",
       "      <td>cleanser-and-exfoliator</td>\n",
       "      <td>TARTE</td>\n",
       "      <td>Sea Deep Dive Makeup Removing Gel Cleanser</td>\n",
       "      <td>40</td>\n",
       "      <td>4.5</td>\n",
       "      <td>Skin Type: Combination, Dry, Normal, Oily, Sen...</td>\n",
       "      <td>Water/Aqua/Eau, cocamidopropyl betaine, disodi...</td>\n",
       "    </tr>\n",
       "    <tr>\n",
       "      <th>3</th>\n",
       "      <td>cleanser-and-exfoliator</td>\n",
       "      <td>FRESH</td>\n",
       "      <td>Rose Cleansing Foam • 120ml</td>\n",
       "      <td>47</td>\n",
       "      <td>4.0</td>\n",
       "      <td>Skin Type: Combination, Dry, Normal, Oily, Sen...</td>\n",
       "      <td>Aqua (Water), Butylene Glycol, Decyl Glucoside...</td>\n",
       "    </tr>\n",
       "    <tr>\n",
       "      <th>4</th>\n",
       "      <td>cleanser-and-exfoliator</td>\n",
       "      <td>DR. ROEBUCKS</td>\n",
       "      <td>Noosa Nourishing Crème Cleanser • 100ml</td>\n",
       "      <td>30</td>\n",
       "      <td>4.5</td>\n",
       "      <td>Skin Type: Dry, Normal, Oily, Sensitive</td>\n",
       "      <td>Aqua/Water/Eau, Stearic Acid, Cetearyl Alcohol...</td>\n",
       "    </tr>\n",
       "  </tbody>\n",
       "</table>\n",
       "</div>"
      ],
      "text/plain": [
       "                     Label         brand  \\\n",
       "0  cleanser-and-exfoliator         FRESH   \n",
       "1  cleanser-and-exfoliator     INDIE LEE   \n",
       "2  cleanser-and-exfoliator         TARTE   \n",
       "3  cleanser-and-exfoliator         FRESH   \n",
       "4  cleanser-and-exfoliator  DR. ROEBUCKS   \n",
       "\n",
       "                                         name  price  rank  \\\n",
       "0                           Soy Face Cleanser    113   4.5   \n",
       "1                        Brightening Cleanser     50   4.5   \n",
       "2  Sea Deep Dive Makeup Removing Gel Cleanser     40   4.5   \n",
       "3                 Rose Cleansing Foam • 120ml     47   4.0   \n",
       "4     Noosa Nourishing Crème Cleanser • 100ml     30   4.5   \n",
       "\n",
       "                                           skin_type  \\\n",
       "0  Skin Type: Combination, Dry, Normal, Oily, Sen...   \n",
       "1  Skin Type: Combination, Dry, Normal, Oily, Sen...   \n",
       "2  Skin Type: Combination, Dry, Normal, Oily, Sen...   \n",
       "3  Skin Type: Combination, Dry, Normal, Oily, Sen...   \n",
       "4            Skin Type: Dry, Normal, Oily, Sensitive   \n",
       "\n",
       "                                         ingredients  \n",
       "0  Aqua (Water), Coco-Glucoside, Glycerin, Butyle...  \n",
       "1  Water (Aqua/Eau), Decyl Glucoside (Veg. Oils &...  \n",
       "2  Water/Aqua/Eau, cocamidopropyl betaine, disodi...  \n",
       "3  Aqua (Water), Butylene Glycol, Decyl Glucoside...  \n",
       "4  Aqua/Water/Eau, Stearic Acid, Cetearyl Alcohol...  "
      ]
     },
     "execution_count": 15,
     "metadata": {},
     "output_type": "execute_result"
    }
   ],
   "source": [
    "df.head()"
   ]
  },
  {
   "cell_type": "code",
   "execution_count": 16,
   "metadata": {},
   "outputs": [
    {
     "name": "stderr",
     "output_type": "stream",
     "text": [
      "C:\\Users\\storm\\anaconda3\\lib\\site-packages\\ipykernel_launcher.py:5: SettingWithCopyWarning: \n",
      "A value is trying to be set on a copy of a slice from a DataFrame\n",
      "\n",
      "See the caveats in the documentation: https://pandas.pydata.org/pandas-docs/stable/user_guide/indexing.html#returning-a-view-versus-a-copy\n",
      "  \"\"\"\n"
     ]
    }
   ],
   "source": [
    "# Clean skin_type column\n",
    "\n",
    "pattern = 'Skin Type: '\n",
    "for i in range(len(df)):\n",
    "    df['skin_type'][i] = re.sub(pattern, '', df['skin_type'][i])"
   ]
  },
  {
   "cell_type": "code",
   "execution_count": 17,
   "metadata": {},
   "outputs": [
    {
     "data": {
      "text/html": [
       "<div>\n",
       "<style scoped>\n",
       "    .dataframe tbody tr th:only-of-type {\n",
       "        vertical-align: middle;\n",
       "    }\n",
       "\n",
       "    .dataframe tbody tr th {\n",
       "        vertical-align: top;\n",
       "    }\n",
       "\n",
       "    .dataframe thead th {\n",
       "        text-align: right;\n",
       "    }\n",
       "</style>\n",
       "<table border=\"1\" class=\"dataframe\">\n",
       "  <thead>\n",
       "    <tr style=\"text-align: right;\">\n",
       "      <th></th>\n",
       "      <th>Label</th>\n",
       "      <th>brand</th>\n",
       "      <th>name</th>\n",
       "      <th>price</th>\n",
       "      <th>rank</th>\n",
       "      <th>skin_type</th>\n",
       "      <th>ingredients</th>\n",
       "    </tr>\n",
       "  </thead>\n",
       "  <tbody>\n",
       "    <tr>\n",
       "      <th>0</th>\n",
       "      <td>cleanser-and-exfoliator</td>\n",
       "      <td>FRESH</td>\n",
       "      <td>Soy Face Cleanser</td>\n",
       "      <td>113</td>\n",
       "      <td>4.5</td>\n",
       "      <td>Combination, Dry, Normal, Oily, Sensitive</td>\n",
       "      <td>Aqua (Water), Coco-Glucoside, Glycerin, Butyle...</td>\n",
       "    </tr>\n",
       "    <tr>\n",
       "      <th>1</th>\n",
       "      <td>cleanser-and-exfoliator</td>\n",
       "      <td>INDIE LEE</td>\n",
       "      <td>Brightening Cleanser</td>\n",
       "      <td>50</td>\n",
       "      <td>4.5</td>\n",
       "      <td>Combination, Dry, Normal, Oily, Sensitive</td>\n",
       "      <td>Water (Aqua/Eau), Decyl Glucoside (Veg. Oils &amp;...</td>\n",
       "    </tr>\n",
       "    <tr>\n",
       "      <th>2</th>\n",
       "      <td>cleanser-and-exfoliator</td>\n",
       "      <td>TARTE</td>\n",
       "      <td>Sea Deep Dive Makeup Removing Gel Cleanser</td>\n",
       "      <td>40</td>\n",
       "      <td>4.5</td>\n",
       "      <td>Combination, Dry, Normal, Oily, Sensitive</td>\n",
       "      <td>Water/Aqua/Eau, cocamidopropyl betaine, disodi...</td>\n",
       "    </tr>\n",
       "    <tr>\n",
       "      <th>3</th>\n",
       "      <td>cleanser-and-exfoliator</td>\n",
       "      <td>FRESH</td>\n",
       "      <td>Rose Cleansing Foam • 120ml</td>\n",
       "      <td>47</td>\n",
       "      <td>4.0</td>\n",
       "      <td>Combination, Dry, Normal, Oily, Sensitive</td>\n",
       "      <td>Aqua (Water), Butylene Glycol, Decyl Glucoside...</td>\n",
       "    </tr>\n",
       "    <tr>\n",
       "      <th>4</th>\n",
       "      <td>cleanser-and-exfoliator</td>\n",
       "      <td>DR. ROEBUCKS</td>\n",
       "      <td>Noosa Nourishing Crème Cleanser • 100ml</td>\n",
       "      <td>30</td>\n",
       "      <td>4.5</td>\n",
       "      <td>Dry, Normal, Oily, Sensitive</td>\n",
       "      <td>Aqua/Water/Eau, Stearic Acid, Cetearyl Alcohol...</td>\n",
       "    </tr>\n",
       "  </tbody>\n",
       "</table>\n",
       "</div>"
      ],
      "text/plain": [
       "                     Label         brand  \\\n",
       "0  cleanser-and-exfoliator         FRESH   \n",
       "1  cleanser-and-exfoliator     INDIE LEE   \n",
       "2  cleanser-and-exfoliator         TARTE   \n",
       "3  cleanser-and-exfoliator         FRESH   \n",
       "4  cleanser-and-exfoliator  DR. ROEBUCKS   \n",
       "\n",
       "                                         name  price  rank  \\\n",
       "0                           Soy Face Cleanser    113   4.5   \n",
       "1                        Brightening Cleanser     50   4.5   \n",
       "2  Sea Deep Dive Makeup Removing Gel Cleanser     40   4.5   \n",
       "3                 Rose Cleansing Foam • 120ml     47   4.0   \n",
       "4     Noosa Nourishing Crème Cleanser • 100ml     30   4.5   \n",
       "\n",
       "                                   skin_type  \\\n",
       "0  Combination, Dry, Normal, Oily, Sensitive   \n",
       "1  Combination, Dry, Normal, Oily, Sensitive   \n",
       "2  Combination, Dry, Normal, Oily, Sensitive   \n",
       "3  Combination, Dry, Normal, Oily, Sensitive   \n",
       "4               Dry, Normal, Oily, Sensitive   \n",
       "\n",
       "                                         ingredients  \n",
       "0  Aqua (Water), Coco-Glucoside, Glycerin, Butyle...  \n",
       "1  Water (Aqua/Eau), Decyl Glucoside (Veg. Oils &...  \n",
       "2  Water/Aqua/Eau, cocamidopropyl betaine, disodi...  \n",
       "3  Aqua (Water), Butylene Glycol, Decyl Glucoside...  \n",
       "4  Aqua/Water/Eau, Stearic Acid, Cetearyl Alcohol...  "
      ]
     },
     "execution_count": 17,
     "metadata": {},
     "output_type": "execute_result"
    }
   ],
   "source": [
    "df.head()"
   ]
  },
  {
   "cell_type": "code",
   "execution_count": 18,
   "metadata": {},
   "outputs": [],
   "source": [
    "# list column dummies\n",
    "\n",
    "df_3 = df['skin_type'].str.get_dummies(sep=', ')\n",
    "df_4 = df.join(df_3).drop('skin_type', axis = 1)"
   ]
  },
  {
   "cell_type": "code",
   "execution_count": 19,
   "metadata": {},
   "outputs": [
    {
     "data": {
      "text/html": [
       "<div>\n",
       "<style scoped>\n",
       "    .dataframe tbody tr th:only-of-type {\n",
       "        vertical-align: middle;\n",
       "    }\n",
       "\n",
       "    .dataframe tbody tr th {\n",
       "        vertical-align: top;\n",
       "    }\n",
       "\n",
       "    .dataframe thead th {\n",
       "        text-align: right;\n",
       "    }\n",
       "</style>\n",
       "<table border=\"1\" class=\"dataframe\">\n",
       "  <thead>\n",
       "    <tr style=\"text-align: right;\">\n",
       "      <th></th>\n",
       "      <th>Combination</th>\n",
       "      <th>Dry</th>\n",
       "      <th>Normal</th>\n",
       "      <th>Oily</th>\n",
       "      <th>Sensitive</th>\n",
       "    </tr>\n",
       "  </thead>\n",
       "  <tbody>\n",
       "    <tr>\n",
       "      <th>0</th>\n",
       "      <td>1</td>\n",
       "      <td>1</td>\n",
       "      <td>1</td>\n",
       "      <td>1</td>\n",
       "      <td>1</td>\n",
       "    </tr>\n",
       "    <tr>\n",
       "      <th>1</th>\n",
       "      <td>1</td>\n",
       "      <td>1</td>\n",
       "      <td>1</td>\n",
       "      <td>1</td>\n",
       "      <td>1</td>\n",
       "    </tr>\n",
       "    <tr>\n",
       "      <th>2</th>\n",
       "      <td>1</td>\n",
       "      <td>1</td>\n",
       "      <td>1</td>\n",
       "      <td>1</td>\n",
       "      <td>1</td>\n",
       "    </tr>\n",
       "    <tr>\n",
       "      <th>3</th>\n",
       "      <td>1</td>\n",
       "      <td>1</td>\n",
       "      <td>1</td>\n",
       "      <td>1</td>\n",
       "      <td>1</td>\n",
       "    </tr>\n",
       "    <tr>\n",
       "      <th>4</th>\n",
       "      <td>0</td>\n",
       "      <td>1</td>\n",
       "      <td>1</td>\n",
       "      <td>1</td>\n",
       "      <td>1</td>\n",
       "    </tr>\n",
       "  </tbody>\n",
       "</table>\n",
       "</div>"
      ],
      "text/plain": [
       "   Combination  Dry  Normal  Oily  Sensitive\n",
       "0            1    1       1     1          1\n",
       "1            1    1       1     1          1\n",
       "2            1    1       1     1          1\n",
       "3            1    1       1     1          1\n",
       "4            0    1       1     1          1"
      ]
     },
     "execution_count": 19,
     "metadata": {},
     "output_type": "execute_result"
    }
   ],
   "source": [
    "df_3.head()"
   ]
  },
  {
   "cell_type": "code",
   "execution_count": null,
   "metadata": {},
   "outputs": [],
   "source": []
  },
  {
   "cell_type": "code",
   "execution_count": 20,
   "metadata": {},
   "outputs": [],
   "source": [
    "#df.to_csv('test_check.csv', encoding = 'utf-8-sig', index = False)"
   ]
  },
  {
   "cell_type": "code",
   "execution_count": 21,
   "metadata": {},
   "outputs": [],
   "source": [
    "#df_3.to_csv('seesee4.csv', encoding = 'utf-8-sig', index = False)"
   ]
  },
  {
   "cell_type": "code",
   "execution_count": 22,
   "metadata": {},
   "outputs": [],
   "source": [
    "#df_4.to_csv('sephora_SG_FIREFOX_dataset_clean_SENSITIVE SKIN.csv', encoding = 'utf-8-sig', index = False)"
   ]
  },
  {
   "cell_type": "code",
   "execution_count": 23,
   "metadata": {},
   "outputs": [],
   "source": [
    "df_4.to_csv('sephora_SG_FIREFOX_dataset_clean.csv', encoding = 'utf-8-sig', index = False)"
   ]
  }
 ],
 "metadata": {
  "kernelspec": {
   "display_name": "Python 3",
   "language": "python",
   "name": "python3"
  },
  "language_info": {
   "codemirror_mode": {
    "name": "ipython",
    "version": 3
   },
   "file_extension": ".py",
   "mimetype": "text/x-python",
   "name": "python",
   "nbconvert_exporter": "python",
   "pygments_lexer": "ipython3",
   "version": "3.7.6"
  }
 },
 "nbformat": 4,
 "nbformat_minor": 4
}
